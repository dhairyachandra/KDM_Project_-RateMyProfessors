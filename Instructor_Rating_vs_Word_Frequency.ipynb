{
  "nbformat": 4,
  "nbformat_minor": 0,
  "metadata": {
    "kernelspec": {
      "display_name": "Python 3",
      "language": "python",
      "name": "python3"
    },
    "language_info": {
      "codemirror_mode": {
        "name": "ipython",
        "version": 3
      },
      "file_extension": ".py",
      "mimetype": "text/x-python",
      "name": "python",
      "nbconvert_exporter": "python",
      "pygments_lexer": "ipython3",
      "version": "3.7.3"
    },
    "colab": {
      "name": "Instructor Rating vs Word Frequency.ipynb.txt",
      "provenance": [],
      "include_colab_link": true
    },
    "accelerator": "GPU"
  },
  "cells": [
    {
      "cell_type": "markdown",
      "metadata": {
        "id": "view-in-github",
        "colab_type": "text"
      },
      "source": [
        "<a href=\"https://colab.research.google.com/github/dhairyachandra/KDM_Project_-RateMyProfessors/blob/main/Instructor_Rating_vs_Word_Frequency.ipynb\" target=\"_parent\"><img src=\"https://colab.research.google.com/assets/colab-badge.svg\" alt=\"Open In Colab\"/></a>"
      ]
    },
    {
      "cell_type": "code",
      "metadata": {
        "id": "izppTfS3enx_"
      },
      "source": [
        "import pandas as pd\n",
        "\n",
        "df = pd.read_csv('/content/RateMyProfessor_Sample data.csv')"
      ],
      "execution_count": null,
      "outputs": []
    },
    {
      "cell_type": "code",
      "metadata": {
        "colab": {
          "base_uri": "https://localhost:8080/",
          "height": 349
        },
        "id": "fmAlw3H8enyH",
        "outputId": "b4680ddc-deb9-437f-cfc6-e2603965ad02"
      },
      "source": [
        "# Helpful visual - Score distribution for instructors \n",
        "# Get an idea of how we should define our binary categories\n",
        "import seaborn as sns\n",
        "\n",
        "sns.distplot(df['Score'])"
      ],
      "execution_count": null,
      "outputs": [
        {
          "output_type": "stream",
          "text": [
            "/usr/local/lib/python3.7/dist-packages/seaborn/distributions.py:2557: FutureWarning: `distplot` is a deprecated function and will be removed in a future version. Please adapt your code to use either `displot` (a figure-level function with similar flexibility) or `histplot` (an axes-level function for histograms).\n",
            "  warnings.warn(msg, FutureWarning)\n"
          ],
          "name": "stderr"
        },
        {
          "output_type": "execute_result",
          "data": {
            "text/plain": [
              "<matplotlib.axes._subplots.AxesSubplot at 0x7f7d4a259710>"
            ]
          },
          "metadata": {
            "tags": []
          },
          "execution_count": 2
        },
        {
          "output_type": "display_data",
          "data": {
            "image/png": "[encoded data removed]",
            "text/plain": [
              "<Figure size 432x288 with 1 Axes>"
            ]
          },
          "metadata": {
            "tags": [],
            "needs_background": "light"
          }
        }
      ]
    },
    {
      "cell_type": "code",
      "metadata": {
        "id": "Qt5nxTu5enyI"
      },
      "source": [
        "# Convert Score values from string to float for analysis\n",
        "\n",
        "df['Score'] = df['Score'].astype(float)"
      ],
      "execution_count": null,
      "outputs": []
    },
    {
      "cell_type": "code",
      "metadata": {
        "id": "s1n8TRuhenyI"
      },
      "source": [
        "# Creating binary catagories for comparision\n",
        "# One binary category will be the x-axis, the other the y-axis\n",
        "# In this case, Scores will be converting into either 'High Rating' or 'Low Rating'\n",
        "\n",
        "df['Score'] = df['Score'].apply(lambda x: 'High Rating' if x > 4 else 'Low Rating')"
      ],
      "execution_count": null,
      "outputs": []
    },
    {
      "cell_type": "code",
      "metadata": {
        "colab": {
          "base_uri": "https://localhost:8080/"
        },
        "id": "T9f0fWT9e6Fw",
        "outputId": "fac6121d-869d-4313-9521-81d54b5b7ccf"
      },
      "source": [
        "!pip install scattertext"
      ],
      "execution_count": null,
      "outputs": [
        {
          "output_type": "stream",
          "text": [
            "Collecting scattertext\n",
            "\u001b[?25l  Downloading https://files.pythonhosted.org/packages/b7/a7/a44c8051cdb98763a3a666e1801775980eea1b0cf979ffba92b974c6f07c/scattertext-0.1.2-py3-none-any.whl (7.3MB)\n",
            "\u001b[K     |████████████████████████████████| 7.3MB 11.0MB/s \n",
            "\u001b[?25hCollecting flashtext\n",
            "  Downloading https://files.pythonhosted.org/packages/81/d8/2cd0656eae456d615c2f1efbcae8dfca2cb871a31f34ba8925aba47d5e09/flashtext-2.7.tar.gz\n",
            "Requirement already satisfied: statsmodels in /usr/local/lib/python3.7/dist-packages (from scattertext) (0.10.2)\n",
            "Requirement already satisfied: scikit-learn in /usr/local/lib/python3.7/dist-packages (from scattertext) (0.22.2.post1)\n",
            "Requirement already satisfied: scipy in /usr/local/lib/python3.7/dist-packages (from scattertext) (1.4.1)\n",
            "Requirement already satisfied: numpy in /usr/local/lib/python3.7/dist-packages (from scattertext) (1.19.5)\n",
            "Requirement already satisfied: pandas in /usr/local/lib/python3.7/dist-packages (from scattertext) (1.1.5)\n",
            "Requirement already satisfied: six in /usr/local/lib/python3.7/dist-packages (from scattertext) (1.15.0)\n",
            "Collecting mock\n",
            "  Downloading https://files.pythonhosted.org/packages/5c/03/b7e605db4a57c0f6fba744b11ef3ddf4ddebcada35022927a2b5fc623fdf/mock-4.0.3-py3-none-any.whl\n",
            "Requirement already satisfied: patsy>=0.4.0 in /usr/local/lib/python3.7/dist-packages (from statsmodels->scattertext) (0.5.1)\n",
            "Requirement already satisfied: joblib>=0.11 in /usr/local/lib/python3.7/dist-packages (from scikit-learn->scattertext) (1.0.1)\n",
            "Requirement already satisfied: python-dateutil>=2.7.3 in /usr/local/lib/python3.7/dist-packages (from pandas->scattertext) (2.8.1)\n",
            "Requirement already satisfied: pytz>=2017.2 in /usr/local/lib/python3.7/dist-packages (from pandas->scattertext) (2018.9)\n",
            "Building wheels for collected packages: flashtext\n",
            "  Building wheel for flashtext (setup.py) ... \u001b[?25l\u001b[?25hdone\n",
            "  Created wheel for flashtext: filename=flashtext-2.7-py2.py3-none-any.whl size=9299 sha256=f7a538ccb09a5476e7147407afea52332b2917c118e9c835bc78039de0ab318f\n",
            "  Stored in directory: /root/.cache/pip/wheels/37/db/d7/fe74f7cb8e5c3afed90fe6f4967c933a6f13d81ab6b3d3128c\n",
            "Successfully built flashtext\n",
            "Installing collected packages: flashtext, mock, scattertext\n",
            "Successfully installed flashtext-2.7 mock-4.0.3 scattertext-0.1.2\n"
          ],
          "name": "stdout"
        }
      ]
    },
    {
      "cell_type": "code",
      "metadata": {
        "id": "Hb67Qun7enyJ"
      },
      "source": [
        "# NLP processing\n",
        "\n",
        "import spacy\n",
        "import scattertext"
      ],
      "execution_count": null,
      "outputs": []
    },
    {
      "cell_type": "code",
      "metadata": {
        "id": "GOODM7foenyJ"
      },
      "source": [
        "nlp = spacy.load('en')"
      ],
      "execution_count": null,
      "outputs": []
    },
    {
      "cell_type": "code",
      "metadata": {
        "colab": {
          "base_uri": "https://localhost:8080/"
        },
        "id": "as4lCXTnenyK",
        "outputId": "53c1427d-07ca-40ea-b02f-68a3eac6ee5a"
      },
      "source": [
        "# Stop words to ignore from NLTK\n",
        "from nltk.corpus import stopwords\n",
        "\n",
        "import nltk\n",
        "nltk.download('stopwords')\n",
        "\n",
        "stopWords = set(stopwords.words('english'))\n",
        "nlp.Defaults.stop_words |= stopWords\n",
        "\n",
        "# Includes a text file to add custom stop words\n",
        "with open('stopwords.txt', 'r') as f:\n",
        "    str_f = f.read()\n",
        "    stopwords_file = set(str_f.split('\\n'))\n",
        "nlp.Defaults.stop_words |= stopwords_file"
      ],
      "execution_count": null,
      "outputs": [
        {
          "output_type": "stream",
          "text": [
            "[nltk_data] Downloading package stopwords to /root/nltk_data...\n",
            "[nltk_data]   Unzipping corpora/stopwords.zip.\n"
          ],
          "name": "stdout"
        }
      ]
    },
    {
      "cell_type": "code",
      "metadata": {
        "id": "efrWBFCLenyK"
      },
      "source": [
        "# Defines corpus. Removes stop words\n",
        "# category_col : the column in our datafile holding our binary categories.\n",
        "# text_col : the column in our datafile holding our text to be analyzed \n",
        "\n",
        "corpus = (scattertext.CorpusFromPandas(df,\n",
        "                                       category_col='Score', \n",
        "                                       text_col='comment',\n",
        "                                       nlp=nlp).build().remove_terms(nlp.Defaults.stop_words, ignore_absences=True))"
      ],
      "execution_count": null,
      "outputs": []
    },
    {
      "cell_type": "code",
      "metadata": {
        "id": "81wS_trIenyK"
      },
      "source": [
        "# Using Scattertext to visualize term associations \n",
        "# category_name : label the y-axis of html visual\n",
        "# not_category_name : label for the x-axis of html visual\n",
        "\n",
        "corpus_dataframe = df\n",
        "html = scattertext.produce_scattertext_explorer(corpus,\n",
        "                                                category='Low Rating',\n",
        "                                               category_name='Low Rating',\n",
        "                                               not_category_name='High Rating',\n",
        "                                               width_in_pixels=1000,\n",
        "                                               height_in_pixels=700,\n",
        "                                               metadata=corpus_dataframe['professor_name'])"
      ],
      "execution_count": null,
      "outputs": []
    },
    {
      "cell_type": "code",
      "metadata": {
        "id": "Qd9Hj3lfenyL"
      },
      "source": [
        "# Saves html to file\n",
        "html_file_name = \"Instructor-Rating-Vs-Word-Frequency.html\"\n",
        "open(html_file_name, 'wb').write(html.encode('utf-8'))"
      ],
      "execution_count": null,
      "outputs": []
    },
    {
      "cell_type": "code",
      "metadata": {
        "id": "fJFIDe6bfZRL"
      },
      "source": [
        ""
      ],
      "execution_count": null,
      "outputs": []
    }
  ]
}