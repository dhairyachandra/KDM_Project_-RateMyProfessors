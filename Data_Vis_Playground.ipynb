{
  "nbformat": 4,
  "nbformat_minor": 0,
  "metadata": {
    "colab": {
      "name": "Data Vis Playground.ipynb",
      "provenance": [],
      "collapsed_sections": [],
      "toc_visible": true,
      "include_colab_link": true
    },
    "kernelspec": {
      "name": "python3",
      "display_name": "Python 3"
    }
  },
  "cells": [
    {
      "cell_type": "markdown",
      "metadata": {
        "id": "view-in-github",
        "colab_type": "text"
      },
      "source": [
        "<a href=\"https://colab.research.google.com/github/dhairyachandra/KDM_Project_-RateMyProfessors/blob/main/Data_Vis_Playground.ipynb\" target=\"_parent\"><img src=\"https://colab.research.google.com/assets/colab-badge.svg\" alt=\"Open In Colab\"/></a>"
      ]
    },
    {
      "cell_type": "code",
      "metadata": {
        "id": "DBjUx94EGhD-"
      },
      "source": [
        "import pandas as pd\n",
        "import matplotlib.pyplot as plt\n",
        "import seaborn as sb\n",
        "from collections import Counter\n",
        "import csv"
      ],
      "execution_count": null,
      "outputs": []
    },
    {
      "cell_type": "markdown",
      "metadata": {
        "id": "few8SjFWKwwI"
      },
      "source": [
        "Import file and setup read from file"
      ]
    },
    {
      "cell_type": "code",
      "metadata": {
        "id": "JD6KB6IYGs-6"
      },
      "source": [
        "FILENAME = \"/content/RateMyProfessor_Sample data.csv\"\n",
        "data = pd.read_csv(FILENAME)"
      ],
      "execution_count": null,
      "outputs": []
    },
    {
      "cell_type": "markdown",
      "metadata": {
        "id": "mp0TjjE6NT8S"
      },
      "source": [
        "Reads all the collumn headers of a CSV, flatten and append to a header list"
      ]
    },
    {
      "cell_type": "code",
      "metadata": {
        "id": "baFW4jgpMEPv",
        "colab": {
          "base_uri": "https://localhost:8080/"
        },
        "outputId": "5c692b66-1fd2-4427-f8a6-8159b8c16516"
      },
      "source": [
        "headerlist = []\n",
        "\n",
        "with open(FILENAME, \"r\") as f:\n",
        "    reader = csv.reader(f)\n",
        "    i = next(reader)\n",
        "\n",
        "    headerlist.append(i)\n",
        "\n",
        "flatlist = []\n",
        "for h in headerlist:\n",
        "  for item in h:\n",
        "    flatlist.append(item)\n",
        "print(flatlist)"
      ],
      "execution_count": null,
      "outputs": [
        {
          "output_type": "stream",
          "text": [
            "['professor_name', 'school_name', 'department_name', 'local_name', 'state_name', 'year_since_first_review', 'Score', 'take_again', 'diff_index', 'tag_professor', 'num_student', 'post_date', 'name_onlines', 'name_not_onlines', 'Score_student', 'student_difficult', 'attence', 'for_credits', 'would_take_agains', 'grades', 'help_useful', 'help_not_useful', 'comment', 'word_comment', 'gender', 'race', 'asian', 'hispanic', 'nh_black', 'nh_white', 'gives_good_feedback', 'caring', 'respected', 'participation_matters', 'clear_grading_criteria', 'skip_class', 'amazing_lectures', 'inspirational', 'tough_grader', 'hilarious', 'get_ready_to_read', 'lots_of_homework', 'accessible_outside_class', 'lecture_heavy', 'extra_credit', 'graded_by_few_things', 'group_projects', 'test_heavy', 'so_many_papers', 'beware_of_pop_quizzes', 'IsCourseOnline']\n"
          ],
          "name": "stdout"
        }
      ]
    },
    {
      "cell_type": "markdown",
      "metadata": {
        "id": "Zx4WRWYKK4EH"
      },
      "source": [
        "Print specific columns from the CSV. Column 6 is the NAME of professors"
      ]
    },
    {
      "cell_type": "markdown",
      "metadata": {
        "id": "K8Ul2m-_K-Un"
      },
      "source": [
        "Create a set list of unique items in a source list and print"
      ]
    },
    {
      "cell_type": "code",
      "metadata": {
        "id": "a1grFZZmKrWC",
        "colab": {
          "base_uri": "https://localhost:8080/"
        },
        "outputId": "751d28d7-75bf-41e9-c150-da5e57320c37"
      },
      "source": [
        "setlist = list(set(data['gender'].loc[(data['gender'] == 'female') | (data['gender'] == 'male')]))\n",
        "print (setlist)"
      ],
      "execution_count": null,
      "outputs": [
        {
          "output_type": "stream",
          "text": [
            "['male', 'female']\n"
          ],
          "name": "stdout"
        }
      ]
    },
    {
      "cell_type": "markdown",
      "metadata": {
        "id": "IKF56Y_VLFpf"
      },
      "source": [
        "Gets the occurence of each item in a source list and print"
      ]
    },
    {
      "cell_type": "code",
      "metadata": {
        "id": "KZ05eGuMWjKa"
      },
      "source": [
        ""
      ],
      "execution_count": null,
      "outputs": []
    },
    {
      "cell_type": "code",
      "metadata": {
        "id": "RNFIcE2cIs2R",
        "colab": {
          "base_uri": "https://localhost:8080/"
        },
        "outputId": "7cf6173d-b5d5-40ee-9a1d-b8b032be4520"
      },
      "source": [
        "counterlist = Counter(data['gender'].loc[(data['gender'] == 'female') | (data['gender'] == 'male')])\n",
        "print (counterlist.items())"
      ],
      "execution_count": null,
      "outputs": [
        {
          "output_type": "stream",
          "text": [
            "dict_items([('female', 330), ('male', 3467)])\n"
          ],
          "name": "stdout"
        }
      ]
    },
    {
      "cell_type": "code",
      "metadata": {
        "id": "T9H-_0dDD4eU",
        "colab": {
          "base_uri": "https://localhost:8080/",
          "height": 337
        },
        "outputId": "14f7e78e-d901-4f77-dc83-e291a669345d"
      },
      "source": [
        "df = pd.DataFrame(counterlist.values(), index=setlist[::-1], columns=[''])\n",
        "df.plot(kind='pie', subplots=True, figsize=(5, 5), legend=False, autopct='%1.1f%%')"
      ],
      "execution_count": null,
      "outputs": [
        {
          "output_type": "execute_result",
          "data": {
            "text/plain": [
              "array([<matplotlib.axes._subplots.AxesSubplot object at 0x7f6c68efb190>],\n",
              "      dtype=object)"
            ]
          },
          "metadata": {
            "tags": []
          },
          "execution_count": 55
        },
        {
          "output_type": "display_data",
          "data": {
            "image/png": "[encoded data removed]",
            "text/plain": [
              "<Figure size 360x360 with 1 Axes>"
            ]
          },
          "metadata": {
            "tags": []
          }
        }
      ]
    },
    {
      "cell_type": "code",
      "metadata": {
        "id": "7jOJZuX_ddqj"
      },
      "source": [
        ""
      ],
      "execution_count": null,
      "outputs": []
    }
  ]
}