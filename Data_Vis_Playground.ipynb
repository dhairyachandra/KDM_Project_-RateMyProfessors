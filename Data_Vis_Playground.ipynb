{
  "nbformat": 4,
  "nbformat_minor": 0,
  "metadata": {
    "colab": {
      "name": "Data Vis Playground.ipynb",
      "provenance": [],
      "collapsed_sections": [],
      "toc_visible": true,
      "include_colab_link": true
    },
    "kernelspec": {
      "name": "python3",
      "display_name": "Python 3"
    }
  },
  "cells": [
    {
      "cell_type": "markdown",
      "metadata": {
        "id": "view-in-github",
        "colab_type": "text"
      },
      "source": [
        "<a href=\"https://colab.research.google.com/github/dhairyachandra/KDM_Project_-RateMyProfessors/blob/main/Data_Vis_Playground.ipynb\" target=\"_parent\"><img src=\"https://colab.research.google.com/assets/colab-badge.svg\" alt=\"Open In Colab\"/></a>"
      ]
    },
    {
      "cell_type": "code",
      "metadata": {
        "id": "DBjUx94EGhD-"
      },
      "source": [
        "import pandas as pd\n",
        "import matplotlib.pyplot as plt\n",
        "import seaborn as sb\n",
        "from collections import Counter\n",
        "import csv"
      ],
      "execution_count": null,
      "outputs": []
    },
    {
      "cell_type": "markdown",
      "metadata": {
        "id": "few8SjFWKwwI"
      },
      "source": [
        "Import file and setup read from file"
      ]
    },
    {
      "cell_type": "code",
      "metadata": {
        "id": "JD6KB6IYGs-6"
      },
      "source": [
        "FILENAME = \"/content/RateMyProfessor_Sample data.csv\"\n",
        "data = pd.read_csv(FILENAME)"
      ],
      "execution_count": null,
      "outputs": []
    },
    {
      "cell_type": "markdown",
      "metadata": {
        "id": "mp0TjjE6NT8S"
      },
      "source": [
        "Reads all the collumn headers of a CSV, flatten and append to a header list"
      ]
    },
    {
      "cell_type": "code",
      "metadata": {
        "id": "baFW4jgpMEPv",
        "colab": {
          "base_uri": "https://localhost:8080/"
        },
        "outputId": "d9c9640a-6fc9-475c-f29b-0aa473514604"
      },
      "source": [
        "headerlist = []\n",
        "\n",
        "with open(FILENAME, \"r\") as f:\n",
        "    reader = csv.reader(f)\n",
        "    i = next(reader)\n",
        "\n",
        "    headerlist.append(i)\n",
        "\n",
        "flatlist = []\n",
        "for h in headerlist:\n",
        "  for item in h:\n",
        "    flatlist.append(item)\n",
        "print(flatlist)"
      ],
      "execution_count": null,
      "outputs": [
        {
          "output_type": "stream",
          "text": [
            "['professor_name', 'school_name', 'department_name', 'local_name', 'state_name', 'year_since_first_review', 'Score', 'take_again', 'diff_index', 'tag_professor', 'num_student', 'post_date', 'name_onlines', 'name_not_onlines', 'Score_student', 'student_difficult', 'attence', 'for_credits', 'would_take_agains', 'grades', 'help_useful', 'help_not_useful', 'comment', 'word_comment', 'gender', 'race', 'asian', 'hispanic', 'nh_black', 'nh_white', 'gives_good_feedback', 'caring', 'respected', 'participation_matters', 'clear_grading_criteria', 'skip_class', 'amazing_lectures', 'inspirational', 'tough_grader', 'hilarious', 'get_ready_to_read', 'lots_of_homework', 'accessible_outside_class', 'lecture_heavy', 'extra_credit', 'graded_by_few_things', 'group_projects', 'test_heavy', 'so_many_papers', 'beware_of_pop_quizzes', 'IsCourseOnline']\n"
          ],
          "name": "stdout"
        }
      ]
    },
    {
      "cell_type": "markdown",
      "metadata": {
        "id": "Zx4WRWYKK4EH"
      },
      "source": [
        "Print specific columns from the CSV. Column 6 is the NAME of professors"
      ]
    },
    {
      "cell_type": "code",
      "metadata": {
        "id": "8Dh3jGVUKoFf",
        "colab": {
          "base_uri": "https://localhost:8080/"
        },
        "outputId": "ebddcf96-b381-467e-df5b-327f1f47161b"
      },
      "source": [
        "print(data[flatlist[0]])"
      ],
      "execution_count": null,
      "outputs": [
        {
          "output_type": "stream",
          "text": [
            "0        Leslie  Looney\n",
            "1        Leslie  Looney\n",
            "2        Leslie  Looney\n",
            "3        Leslie  Looney\n",
            "4        Leslie  Looney\n",
            "              ...      \n",
            "15999         Pam  Hood\n",
            "16000         Pam  Hood\n",
            "16001         Pam  Hood\n",
            "16002         Pam  Hood\n",
            "16003         Pam  Hood\n",
            "Name: professor_name, Length: 16004, dtype: object\n"
          ],
          "name": "stdout"
        }
      ]
    },
    {
      "cell_type": "markdown",
      "metadata": {
        "id": "K8Ul2m-_K-Un"
      },
      "source": [
        "Create a set list of unique items in a source list and print"
      ]
    },
    {
      "cell_type": "code",
      "metadata": {
        "id": "a1grFZZmKrWC",
        "colab": {
          "base_uri": "https://localhost:8080/"
        },
        "outputId": "8b3ddc67-cf27-4f08-e7b8-d7fcb0b70e67"
      },
      "source": [
        "setlist = list(set(data['gender']))\n",
        "print (setlist)"
      ],
      "execution_count": null,
      "outputs": [
        {
          "output_type": "stream",
          "text": [
            "['mostly_male', nan, 'mostly_female', 'male', 'andy', 'unknown', 'female']\n"
          ],
          "name": "stdout"
        }
      ]
    },
    {
      "cell_type": "markdown",
      "metadata": {
        "id": "IKF56Y_VLFpf"
      },
      "source": [
        "Gets the occurence of each item in a source list and print"
      ]
    },
    {
      "cell_type": "code",
      "metadata": {
        "id": "RNFIcE2cIs2R",
        "colab": {
          "base_uri": "https://localhost:8080/"
        },
        "outputId": "b768123f-55b5-4ab9-94bd-5fd9ddc5f8ba"
      },
      "source": [
        "counterlist = Counter(data['gender'])\n",
        "print (counterlist.items())"
      ],
      "execution_count": null,
      "outputs": [
        {
          "output_type": "stream",
          "text": [
            "dict_items([('unknown', 12149), ('female', 284), ('male', 2847), ('mostly_female', 150), ('andy', 383), ('mostly_male', 190), (nan, 1)])\n"
          ],
          "name": "stdout"
        }
      ]
    },
    {
      "cell_type": "code",
      "metadata": {
        "id": "T9H-_0dDD4eU",
        "colab": {
          "base_uri": "https://localhost:8080/",
          "height": 337
        },
        "outputId": "e2571d4f-6e3f-4808-c6c5-a2721594440a"
      },
      "source": [
        "df = pd.DataFrame(counterlist.values(), index=setlist, columns=[''])\n",
        "df.plot(kind='pie', subplots=True, figsize=(5, 5), legend=False, autopct='%1.1f%%')"
      ],
      "execution_count": null,
      "outputs": [
        {
          "output_type": "execute_result",
          "data": {
            "text/plain": [
              "array([<matplotlib.axes._subplots.AxesSubplot object at 0x7f1b3730bad0>],\n",
              "      dtype=object)"
            ]
          },
          "metadata": {
            "tags": []
          },
          "execution_count": 7
        },
        {
          "output_type": "display_data",
          "data": {
            "image/png": "[encoded data removed]",
            "text/plain": [
              "<Figure size 360x360 with 1 Axes>"
            ]
          },
          "metadata": {
            "tags": []
          }
        }
      ]
    },
    {
      "cell_type": "code",
      "metadata": {
        "id": "o9iM7r7-nktn"
      },
      "source": [
        ""
      ],
      "execution_count": null,
      "outputs": []
    }
  ]
}